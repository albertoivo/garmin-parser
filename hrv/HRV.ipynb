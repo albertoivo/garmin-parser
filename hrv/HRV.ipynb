{
 "cells": [
  {
   "cell_type": "markdown",
   "metadata": {},
   "source": [
    "# Heart Rate Variability (HRV)"
   ]
  },
  {
   "cell_type": "markdown",
   "metadata": {},
   "source": [
    "**Heart rate variability**, or **HRV** for short, is a measure of your autonomic nervous system that is widely considered one of the best objective metrics for physical fitness and determining your body’s readiness to perform."
   ]
  },
  {
   "cell_type": "markdown",
   "metadata": {},
   "source": [
    "The human heart beats at a non-constant rate; HRV is a measurement of this irregularity. HRV has been shown in numerous studies:\n",
    "- to positively correlate with athletic performance and training adaptation;\n",
    "- to negatively correlate with the risk of overtraining, and\n",
    "- to generally correlate with overall fitness and health."
   ]
  },
  {
   "cell_type": "markdown",
   "metadata": {},
   "source": [
    "![hrv](https://www.whoop.com/wp-content/uploads/2019/09/RR-intervals-heart-rate-variability.ms_.whoop_.png)"
   ]
  },
  {
   "cell_type": "markdown",
   "metadata": {},
   "source": [
    "# HOW TO INCREASE HRV: 10 THINGS YOU CAN DO\n",
    "\n",
    "1. **Exercise & Train Appropriately.** Studies show that regular exercise is one of the best methods for improving your heart rate variability. However, for serious athletes it is also important to avoid overtraining. Strenuous activity reduces HRV in the short term, so it is essential not to consistently take on too much strain without giving your body adequate time to recover.\n",
    "\n",
    "2. **Good Nutrition at the Right Times.** It's no surprise that a smart and healthy diet will benefit your HRV, but something many of us may not realize is that the timing of your food intake can affect it as well. Your body functions better when it knows what's coming and regular eating patterns help maintain your circadian rhythm. Additionally, not eating close to bedtime (within 3-4 hours) will improve the quality of your sleep by allowing your body to focus on other restorative processes instead of digestion.\n",
    "\n",
    "3. **Hydrate.** Your level of hydration determines the volume of your blood, and the more liquid you have in your system the easier it is for blood to circulate and deliver oxygen and nutrients to your body. Drinking close to an ounce of water per each pound that you weigh is a good daily goal. _On average, when WHOOP members log that they are sufficiently hydrated their HRV increases by 3 milliseconds._\n",
    "\n",
    "4. **Don’t Drink Alcohol.** We've found that when WHOOP members report consuming alcohol, their HRV drops by an average of 22 milliseconds the next day. Additionally, our research has discovered that the lingering effects of alcohol in your system may continue to suppress your heart rate variability for 4-5 days.\n",
    "\n",
    "5. **Sleep Well & Consistently.** Getting all the sleep your body needs is a great start, but equally as important is making an effort to go to sleep and wake up at regular times each day. Sleep consistency will boost your HRV by helping to sustain your circadian rhythm, and also enables you to spend more time in REM and deep sleep.\n",
    "\n",
    "6. **Natural Light Exposure.** Going outside in the sunlight after waking up in the morning and watching the sky change from light to dark in the evening trigger biological processes involved with regulating sleep/wake times (see sleep consistency above), energy levels and hormone production. This will also improve alertness, mood and vitamin D production.\n",
    "\n",
    "7. **Cold Thermogenesis.** Exposing your body to cold temperatures for brief periods of time (cold showers, ice baths, etc.) will stimulate the vagus nerve, which activates the parasympathetic branch of your autonomic nervous system and controls heart rate variability.\n",
    "\n",
    "8. **Intentional Breathing.** Studies indicate that slow, controlled breathing techniques can positively impact your HRV. They will also help to combat stress, which has been shown to inhibit heart rate variability.\n",
    "\n",
    "9. **Mindfulness & Meditation.** Anecdotally, many WHOOP members have reported that practicing mindfulness and/or meditation has led to improvements in HRV. As with slow breathing techniques, both will help you reduce stress. In fact, even dedicating just one minute per day to mindfulness exercises can have real benefits.\n",
    "\n",
    "10. **Gratitude Journaling.** The act of writing down things you’re thankful for each day can elicit a corresponding uptick in heart rate variability. It is also linked to lower blood pressure and decreases in stress hormones. For more on this, take a look at “Self-Rule” Choices to Increase Your HRV and Immunity."
   ]
  },
  {
   "cell_type": "code",
   "execution_count": null,
   "metadata": {},
   "outputs": [],
   "source": [
    "import pandas as pd\n",
    "import matplotlib.pyplot as plt\n",
    "\n",
    "%matplotlib inline"
   ]
  },
  {
   "cell_type": "markdown",
   "metadata": {},
   "source": [
    "### Getting the data from the spreadsheet and removing the first 30 days"
   ]
  },
  {
   "cell_type": "code",
   "execution_count": null,
   "metadata": {},
   "outputs": [],
   "source": [
    "df = pd.read_excel('./HRV_teste.xlsx', index_col=0)\n",
    "df.dropna(inplace=True)"
   ]
  },
  {
   "cell_type": "markdown",
   "metadata": {},
   "source": [
    "### Visualizing our data"
   ]
  },
  {
   "cell_type": "code",
   "execution_count": null,
   "metadata": {
    "scrolled": true
   },
   "outputs": [],
   "source": [
    "df"
   ]
  },
  {
   "cell_type": "markdown",
   "metadata": {},
   "source": [
    "### Generate descriptive statistics "
   ]
  },
  {
   "cell_type": "code",
   "execution_count": null,
   "metadata": {},
   "outputs": [],
   "source": [
    "df['Reading'].describe()"
   ]
  },
  {
   "cell_type": "markdown",
   "metadata": {},
   "source": [
    "## HRV Graph\n",
    "\n",
    "- Orange line: **Upper Limit** (Last 30-Days average plus Last 30-Days standard deviation)\n",
    "- Green line: **Lower Limit** (Last 30-Days average minus Last 30-Days standard deviation)\n",
    "- Blue line: **Last 7-Days HRV average**\n",
    "\n",
    "The **goal** here is to maintain **inside the Upper and Lower limits**. Being outside of these limits means **day off**."
   ]
  },
  {
   "cell_type": "code",
   "execution_count": null,
   "metadata": {},
   "outputs": [],
   "source": [
    "df[['Ln rMSSD 7-Day Rolling Average', 'Upper limit', 'Lower Limit']].plot(figsize=(17,6));"
   ]
  }
 ],
 "metadata": {
  "kernelspec": {
   "display_name": "Python 3",
   "language": "python",
   "name": "python3"
  },
  "language_info": {
   "codemirror_mode": {
    "name": "ipython",
    "version": 3
   },
   "file_extension": ".py",
   "mimetype": "text/x-python",
   "name": "python",
   "nbconvert_exporter": "python",
   "pygments_lexer": "ipython3",
   "version": "3.8.3"
  }
 },
 "nbformat": 4,
 "nbformat_minor": 4
}

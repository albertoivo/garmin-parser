{
 "cells": [
  {
   "cell_type": "markdown",
   "metadata": {},
   "source": [
    "# Heart Rate Variability (HRV)"
   ]
  },
  {
   "cell_type": "markdown",
   "metadata": {},
   "source": [
    "**Heart rate variability**, or **HRV** for short, is a measure of your autonomic nervous system that is widely considered one of the best objective metrics for physical fitness and determining your body’s readiness to perform."
   ]
  },
  {
   "cell_type": "markdown",
   "metadata": {},
   "source": [
    "The human heart beats at a non-constant rate; HRV is a measurement of this irregularity. HRV has been shown in numerous studies:\n",
    "- to positively correlate with athletic performance and training adaptation;\n",
    "- to negatively correlate with the risk of overtraining, and\n",
    "- to generally correlate with overall fitness and health."
   ]
  },
  {
   "cell_type": "markdown",
   "metadata": {},
   "source": [
    "![hrv](https://www.whoop.com/wp-content/uploads/2019/09/RR-intervals-heart-rate-variability.ms_.whoop_.png)"
   ]
  },
  {
   "cell_type": "code",
   "execution_count": null,
   "metadata": {},
   "outputs": [],
   "source": [
    "import pandas as pd\n",
    "import matplotlib.pyplot as plt\n",
    "\n",
    "%matplotlib inline"
   ]
  },
  {
   "cell_type": "markdown",
   "metadata": {},
   "source": [
    "### Getting the data from the spreadsheet and removing the first 30 days"
   ]
  },
  {
   "cell_type": "code",
   "execution_count": null,
   "metadata": {},
   "outputs": [],
   "source": [
    "df = pd.read_excel('./HRV_teste.xlsx', index_col=0)\n",
    "df.dropna(inplace=True)"
   ]
  },
  {
   "cell_type": "markdown",
   "metadata": {},
   "source": [
    "### Visualizing our data"
   ]
  },
  {
   "cell_type": "code",
   "execution_count": null,
   "metadata": {
    "scrolled": true
   },
   "outputs": [],
   "source": [
    "df"
   ]
  },
  {
   "cell_type": "markdown",
   "metadata": {},
   "source": [
    "### Generate descriptive statistics "
   ]
  },
  {
   "cell_type": "code",
   "execution_count": null,
   "metadata": {},
   "outputs": [],
   "source": [
    "df['Reading'].describe()"
   ]
  },
  {
   "cell_type": "markdown",
   "metadata": {},
   "source": [
    "## HRV Graph\n",
    "\n",
    "- Orange line: **Upper Limit** (Last 30-Days average plus Last 30-Days standard deviation)\n",
    "- Green line: **Lower Limit** (Last 30-Days average minus Last 30-Days standard deviation)\n",
    "- Blue line: **Last 7-Days HRV average**\n",
    "\n",
    "The **goal** here is to maintain **inside the Upper and Lower limits**. Being outside of these limits means **day off**."
   ]
  },
  {
   "cell_type": "code",
   "execution_count": null,
   "metadata": {},
   "outputs": [],
   "source": [
    "df[['Ln rMSSD 7-Day Rolling Average', 'Upper limit', 'Lower Limit']].plot(figsize=(17,6));"
   ]
  }
 ],
 "metadata": {
  "kernelspec": {
   "display_name": "Python 3",
   "language": "python",
   "name": "python3"
  },
  "language_info": {
   "codemirror_mode": {
    "name": "ipython",
    "version": 3
   },
   "file_extension": ".py",
   "mimetype": "text/x-python",
   "name": "python",
   "nbconvert_exporter": "python",
   "pygments_lexer": "ipython3",
   "version": "3.8.3"
  }
 },
 "nbformat": 4,
 "nbformat_minor": 4
}
